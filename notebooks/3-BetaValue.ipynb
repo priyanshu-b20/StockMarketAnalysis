{
 "cells": [
  {
   "cell_type": "markdown",
   "metadata": {},
   "source": [
    "# __Beta Values__\n",
    "We will use Linear Regression for this."
   ]
  },
  {
   "cell_type": "code",
   "execution_count": 1,
   "metadata": {},
   "outputs": [],
   "source": [
    "import numpy as np\n",
    "import pandas as pd\n",
    "from sklearn.metrics import mean_squared_error, r2_score\n",
    "from sklearn.linear_model import LinearRegression\n",
    "import matplotlib.pyplot as plt"
   ]
  },
  {
   "cell_type": "code",
   "execution_count": 4,
   "metadata": {},
   "outputs": [
    {
     "data": {
      "text/html": [
       "<div>\n",
       "<style scoped>\n",
       "    .dataframe tbody tr th:only-of-type {\n",
       "        vertical-align: middle;\n",
       "    }\n",
       "\n",
       "    .dataframe tbody tr th {\n",
       "        vertical-align: top;\n",
       "    }\n",
       "\n",
       "    .dataframe thead th {\n",
       "        text-align: right;\n",
       "    }\n",
       "</style>\n",
       "<table border=\"1\" class=\"dataframe\">\n",
       "  <thead>\n",
       "    <tr style=\"text-align: right;\">\n",
       "      <th></th>\n",
       "      <th>Nifty Returns</th>\n",
       "      <th>PNB Returns</th>\n",
       "    </tr>\n",
       "  </thead>\n",
       "  <tbody>\n",
       "    <tr>\n",
       "      <th>487</th>\n",
       "      <td>-0.015599</td>\n",
       "      <td>-0.027955</td>\n",
       "    </tr>\n",
       "    <tr>\n",
       "      <th>486</th>\n",
       "      <td>0.002295</td>\n",
       "      <td>0.016434</td>\n",
       "    </tr>\n",
       "    <tr>\n",
       "      <th>485</th>\n",
       "      <td>-0.004970</td>\n",
       "      <td>-0.007276</td>\n",
       "    </tr>\n",
       "    <tr>\n",
       "      <th>484</th>\n",
       "      <td>0.019478</td>\n",
       "      <td>0.059446</td>\n",
       "    </tr>\n",
       "    <tr>\n",
       "      <th>483</th>\n",
       "      <td>0.004543</td>\n",
       "      <td>0.025365</td>\n",
       "    </tr>\n",
       "  </tbody>\n",
       "</table>\n",
       "</div>"
      ],
      "text/plain": [
       "     Nifty Returns  PNB Returns\n",
       "487      -0.015599    -0.027955\n",
       "486       0.002295     0.016434\n",
       "485      -0.004970    -0.007276\n",
       "484       0.019478     0.059446\n",
       "483       0.004543     0.025365"
      ]
     },
     "execution_count": 4,
     "metadata": {},
     "output_type": "execute_result"
    }
   ],
   "source": [
    "df = pd.DataFrame({\n",
    "    'Nifty Returns' : pd.read_csv('./stocks/^NSEI.csv')[::-1]['Close'].pct_change(),\n",
    "    'PNB Returns' : pd.read_csv('./stocks/PNB.NS.csv')[::-1]['Close'].pct_change()\n",
    "})\n",
    "df = df.dropna()\n",
    "df.head()"
   ]
  },
  {
   "cell_type": "code",
   "execution_count": 5,
   "metadata": {},
   "outputs": [
    {
     "data": {
      "text/plain": [
       "<matplotlib.collections.PathCollection at 0x27e30f8f1c0>"
      ]
     },
     "execution_count": 5,
     "metadata": {},
     "output_type": "execute_result"
    },
    {
     "data": {
      "image/png": "[encoded data removed]",
      "text/plain": [
       "<Figure size 720x576 with 1 Axes>"
      ]
     },
     "metadata": {
      "needs_background": "light"
     },
     "output_type": "display_data"
    }
   ],
   "source": [
    "#plotting the graph b/w nifty index and pnb stock daily returns for last 3 months or 84 days\n",
    "nifty3m = df['Nifty Returns'][:84].values\n",
    "pnb3m = df['PNB Returns'][:84].values\n",
    "plt.figure(figsize=(10,8))\n",
    "plt.ylabel('PNB Returns')\n",
    "plt.xlabel('Nifty50 Returns')\n",
    "plt.scatter(nifty3m,pnb3m)"
   ]
  },
  {
   "cell_type": "code",
   "execution_count": 6,
   "metadata": {},
   "outputs": [],
   "source": [
    "#fitting for last 3 months or 84 days\n",
    "linreg = LinearRegression().fit(nifty3m.reshape(-1,1),pnb3m)"
   ]
  },
  {
   "cell_type": "code",
   "execution_count": 7,
   "metadata": {},
   "outputs": [
    {
     "data": {
      "text/plain": [
       "1.6992871104040612"
      ]
     },
     "execution_count": 7,
     "metadata": {},
     "output_type": "execute_result"
    }
   ],
   "source": [
    "#beta value of daily returns for past 3 months or 84 days\n",
    "linreg.coef_[0]"
   ]
  },
  {
   "cell_type": "code",
   "execution_count": 8,
   "metadata": {},
   "outputs": [],
   "source": [
    "nifty = pd.read_csv('./stocks/^NSEI.csv')\n",
    "pnb = pd.read_csv('./stocks/PNB.NS.csv')"
   ]
  },
  {
   "cell_type": "code",
   "execution_count": 9,
   "metadata": {},
   "outputs": [],
   "source": [
    "#Changing the date type from object to datetime64[ns]\n",
    "nifty['Date'] = nifty['Date'].astype(np.dtype('datetime64[ns]'))\n",
    "pnb['Date'] = nifty['Date'].astype(np.dtype('datetime64[ns]'))\n",
    "\n",
    "#making a new col. of month and year\n",
    "nifty['Month'] = nifty['Date'].dt.month\n",
    "pnb['Month'] = pnb['Date'].dt.month\n",
    "nifty['Year'] = nifty['Date'].dt.year\n",
    "pnb['Year'] = pnb['Date'].dt.year\n",
    "\n",
    "#grouping by Year and Month\n",
    "group_nif = nifty.groupby(['Year','Month'])\n",
    "group_pnb = pnb.groupby(['Year','Month'])"
   ]
  },
  {
   "cell_type": "code",
   "execution_count": 11,
   "metadata": {},
   "outputs": [],
   "source": [
    "#getting the Close Price of the the last date of every month from nifty and pnb\n",
    "nif_m = []\n",
    "pnb_m = []\n",
    "for year, group in group_nif:\n",
    "    nif_m.append(group[group['Date'] == group['Date'].max()]['Close'].values)\n",
    "\n",
    "for year, group in group_pnb:\n",
    "    pnb_m.append(group[group['Date'] == group['Date'].max()]['Close'].values)\n",
    "\n",
    "nif_m = np.array(nif_m)\n",
    "nif_m = nif_m[:,-1]\n",
    "pnb_m = np.array(pnb_m)\n",
    "pnb_m = pnb_m[:,-1]"
   ]
  },
  {
   "cell_type": "code",
   "execution_count": 12,
   "metadata": {},
   "outputs": [
    {
     "data": {
      "text/html": [
       "<div>\n",
       "<style scoped>\n",
       "    .dataframe tbody tr th:only-of-type {\n",
       "        vertical-align: middle;\n",
       "    }\n",
       "\n",
       "    .dataframe tbody tr th {\n",
       "        vertical-align: top;\n",
       "    }\n",
       "\n",
       "    .dataframe thead th {\n",
       "        text-align: right;\n",
       "    }\n",
       "</style>\n",
       "<table border=\"1\" class=\"dataframe\">\n",
       "  <thead>\n",
       "    <tr style=\"text-align: right;\">\n",
       "      <th></th>\n",
       "      <th>Nifty</th>\n",
       "      <th>PNB</th>\n",
       "      <th>Nifty Monthly Returns</th>\n",
       "      <th>PNB Monthly Returns</th>\n",
       "    </tr>\n",
       "  </thead>\n",
       "  <tbody>\n",
       "    <tr>\n",
       "      <th>1</th>\n",
       "      <td>10492.849609</td>\n",
       "      <td>101.400002</td>\n",
       "      <td>-0.048501</td>\n",
       "      <td>-0.408229</td>\n",
       "    </tr>\n",
       "    <tr>\n",
       "      <th>2</th>\n",
       "      <td>10113.700195</td>\n",
       "      <td>95.300003</td>\n",
       "      <td>-0.036134</td>\n",
       "      <td>-0.060158</td>\n",
       "    </tr>\n",
       "    <tr>\n",
       "      <th>3</th>\n",
       "      <td>10739.349609</td>\n",
       "      <td>95.400002</td>\n",
       "      <td>0.061862</td>\n",
       "      <td>0.001049</td>\n",
       "    </tr>\n",
       "    <tr>\n",
       "      <th>4</th>\n",
       "      <td>10736.150391</td>\n",
       "      <td>83.650002</td>\n",
       "      <td>-0.000298</td>\n",
       "      <td>-0.123166</td>\n",
       "    </tr>\n",
       "    <tr>\n",
       "      <th>5</th>\n",
       "      <td>10714.299805</td>\n",
       "      <td>76.150002</td>\n",
       "      <td>-0.002035</td>\n",
       "      <td>-0.089659</td>\n",
       "    </tr>\n",
       "  </tbody>\n",
       "</table>\n",
       "</div>"
      ],
      "text/plain": [
       "          Nifty         PNB  Nifty Monthly Returns  PNB Monthly Returns\n",
       "1  10492.849609  101.400002              -0.048501            -0.408229\n",
       "2  10113.700195   95.300003              -0.036134            -0.060158\n",
       "3  10739.349609   95.400002               0.061862             0.001049\n",
       "4  10736.150391   83.650002              -0.000298            -0.123166\n",
       "5  10714.299805   76.150002              -0.002035            -0.089659"
      ]
     },
     "execution_count": 12,
     "metadata": {},
     "output_type": "execute_result"
    }
   ],
   "source": [
    "#creating a new dataframe for nifty and pnb monthly returns \n",
    "monthly_ret = pd.DataFrame({\n",
    "    'Nifty' : nif_m,\n",
    "    'PNB' : pnb_m,\n",
    "    'Nifty Monthly Returns' : pd.Series(nif_m).pct_change(),\n",
    "    'PNB Monthly Returns' : pd.Series(pnb_m).pct_change()\n",
    "})\n",
    "monthly_ret = monthly_ret.dropna()\n",
    "monthly_ret.head()"
   ]
  },
  {
   "cell_type": "code",
   "execution_count": 13,
   "metadata": {},
   "outputs": [
    {
     "data": {
      "text/plain": [
       "<matplotlib.collections.PathCollection at 0x27e311482b0>"
      ]
     },
     "execution_count": 13,
     "metadata": {},
     "output_type": "execute_result"
    },
    {
     "data": {
      "image/png": "[encoded data removed]",
      "text/plain": [
       "<Figure size 720x576 with 1 Axes>"
      ]
     },
     "metadata": {
      "needs_background": "light"
     },
     "output_type": "display_data"
    }
   ],
   "source": [
    "#plotting a graph b/w nifty and pnb monthly returns\n",
    "plt.figure(figsize=(10,8))\n",
    "plt.ylabel('PNB Monthly Returns')\n",
    "plt.xlabel('Nifty50 Monthly Returns')\n",
    "plt.scatter(monthly_ret['Nifty Monthly Returns'].values, monthly_ret['PNB Monthly Returns'].values)"
   ]
  },
  {
   "cell_type": "code",
   "execution_count": 14,
   "metadata": {},
   "outputs": [],
   "source": [
    "#fitting the model to the monthly returns of nifty and pnb\n",
    "linreg = LinearRegression().fit(monthly_ret['Nifty Monthly Returns'].values.reshape(-1,1), monthly_ret['PNB Monthly Returns'].values)"
   ]
  },
  {
   "cell_type": "code",
   "execution_count": 15,
   "metadata": {},
   "outputs": [
    {
     "data": {
      "text/plain": [
       "2.1267521995371585"
      ]
     },
     "execution_count": 15,
     "metadata": {},
     "output_type": "execute_result"
    }
   ],
   "source": [
    "#monthly beta value\n",
    "linreg.coef_[0]"
   ]
  },
  {
   "cell_type": "markdown",
   "metadata": {},
   "source": [
    "* Beta values are the values or factor of relationship b/w the a stock and whole market(for whole market we take market index).\n",
    "* In the Section 3.2 _Daily Returns for last 3 months_(3.2.1) and _Monthly Returns_(3.2.2) shows Beta values more than 2 which means if the market(index) goes up by 1, stock of _PNB_ will go up twice as much(in the above scenarios) and if the market(index) goes down by 1 _PNB_ will go down twice as much.\n",
    "* Market Index like _Nifty50_ or _Sensex_ has the Beta value of 1 and with respect to these market indexes, Beta value of any stock is determined.\n",
    "* If the Beta value is negative then type of relationship is negative which means if market(index) goes up, the stock will go down and vice-versa. \n",
    "* Stocks with higher Beta value can be risky cause if the market goes down by a little, their stocks will go down by a lot. But on the other hand they have higher returns."
   ]
  }
 ],
 "metadata": {
  "kernelspec": {
   "display_name": "Python 3",
   "language": "python",
   "name": "python3"
  },
  "language_info": {
   "codemirror_mode": {
    "name": "ipython",
    "version": 3
   },
   "file_extension": ".py",
   "mimetype": "text/x-python",
   "name": "python",
   "nbconvert_exporter": "python",
   "pygments_lexer": "ipython3",
   "version": "3.8.1"
  }
 },
 "nbformat": 4,
 "nbformat_minor": 4
}
